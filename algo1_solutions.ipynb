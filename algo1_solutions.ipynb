{
 "cells": [
  {
   "cell_type": "markdown",
   "metadata": {},
   "source": []
  },
  {
   "attachments": {},
   "cell_type": "markdown",
   "metadata": {},
   "source": [
    "Problem:\n",
    "Given the head of a singly linked list, return the middle node of the linked list.\n",
    "\n",
    "If there are two middle nodes, return the second middle node."
   ]
  },
  {
   "cell_type": "code",
   "execution_count": 2,
   "metadata": {},
   "outputs": [
    {
     "ename": "NameError",
     "evalue": "name 'Optional' is not defined",
     "output_type": "error",
     "traceback": [
      "\u001b[1;31m---------------------------------------------------------------------------\u001b[0m",
      "\u001b[1;31mNameError\u001b[0m                                 Traceback (most recent call last)",
      "Cell \u001b[1;32mIn[2], line 6\u001b[0m\n\u001b[0;32m      1\u001b[0m \u001b[39m# Definition for singly-linked list.\u001b[39;00m\n\u001b[0;32m      2\u001b[0m \u001b[39m# class ListNode:\u001b[39;00m\n\u001b[0;32m      3\u001b[0m \u001b[39m#     def __init__(self, val=0, next=None):\u001b[39;00m\n\u001b[0;32m      4\u001b[0m \u001b[39m#         self.val = val\u001b[39;00m\n\u001b[0;32m      5\u001b[0m \u001b[39m#         self.next = next\u001b[39;00m\n\u001b[1;32m----> 6\u001b[0m \u001b[39mclass\u001b[39;00m \u001b[39mSolution\u001b[39;00m:\n\u001b[0;32m      7\u001b[0m     \u001b[39mdef\u001b[39;00m \u001b[39mmiddleNode\u001b[39m(\u001b[39mself\u001b[39m, head: Optional[ListNode]) \u001b[39m-\u001b[39m\u001b[39m>\u001b[39m Optional[ListNode]:\n\u001b[0;32m      8\u001b[0m         head1 \u001b[39m=\u001b[39m [ListNode]\n",
      "Cell \u001b[1;32mIn[2], line 7\u001b[0m, in \u001b[0;36mSolution\u001b[1;34m()\u001b[0m\n\u001b[0;32m      6\u001b[0m \u001b[39mclass\u001b[39;00m \u001b[39mSolution\u001b[39;00m:\n\u001b[1;32m----> 7\u001b[0m     \u001b[39mdef\u001b[39;00m \u001b[39mmiddleNode\u001b[39m(\u001b[39mself\u001b[39m, head: Optional[ListNode]) \u001b[39m-\u001b[39m\u001b[39m>\u001b[39m Optional[ListNode]:\n\u001b[0;32m      8\u001b[0m         head1 \u001b[39m=\u001b[39m [ListNode]\n\u001b[0;32m      9\u001b[0m         head1\u001b[39m=\u001b[39mhead\n",
      "\u001b[1;31mNameError\u001b[0m: name 'Optional' is not defined"
     ]
    }
   ],
   "source": [
    "# Definition for singly-linked list.\n",
    "# class ListNode:\n",
    "#     def __init__(self, val=0, next=None):\n",
    "#         self.val = val\n",
    "#         self.next = next\n",
    "class Solution:\n",
    "    def middleNode(self, head: Optional[ListNode]) -> Optional[ListNode]:\n",
    "        head1 = [ListNode]\n",
    "        head1=head\n",
    "        print(head1.val)\n",
    "        while(head1.next and head1.next.next):\n",
    "            head1=head1.next.next\n",
    "            head = head.next\n",
    "            print(head1.val)\n",
    "        if head1.next:\n",
    "            return head.next\n",
    "        else:\n",
    "            return head"
   ]
  },
  {
   "attachments": {},
   "cell_type": "markdown",
   "metadata": {},
   "source": []
  },
  {
   "cell_type": "code",
   "execution_count": null,
   "metadata": {},
   "outputs": [],
   "source": [
    "class ListNode:\n",
    "    def __init__(self, val=0, next=None):\n",
    "        self.val = val\n",
    "        self.next = next\n",
    "\n",
    "def removeNthFromEnd(head, n):\n",
    "    dummy = ListNode(0)\n",
    "    dummy.next = head\n",
    "    first = dummy\n",
    "    second = dummy\n",
    "    for i in range(n + 1):\n",
    "        first = first.next\n",
    "    while first:\n",
    "        first = first.next\n",
    "        second = second.next\n",
    "    second.next = second.next.next\n",
    "    return dummy.next"
   ]
  },
  {
   "attachments": {},
   "cell_type": "markdown",
   "metadata": {},
   "source": [
    "Given two strings s1 and s2, return true if s2 contains a permutation of s1, or false otherwise.\n",
    "\n",
    "In other words, return true if one of s1's permutations is the substring of s2.\n",
    "\n",
    " "
   ]
  },
  {
   "cell_type": "code",
   "execution_count": null,
   "metadata": {},
   "outputs": [],
   "source": [
    "class Solution:\n",
    "    def create_hash(self, string1):\n",
    "        dict2 = {}\n",
    "        for i in string1:\n",
    "            if dict2.get(i):\n",
    "                dict2[i]= dict2[i]+1\n",
    "            else:\n",
    "                dict2[i] =1\n",
    "        return dict2\n",
    "    def checkInclusion(self, s1: str, s2: str) -> bool:\n",
    "        dict1 = {}\n",
    "        for i in s1:\n",
    "            if dict1.get(i):\n",
    "                dict1[i] = dict1[i]+1\n",
    "            else:\n",
    "                dict1[i] = 1\n",
    "        for i in range(0, len(s2)):\n",
    "            if i+len(s1)-1<len(s2):\n",
    "                if self.create_hash(s2[i:i+len(s1)]) == dict1:\n",
    "                    return True\n",
    "        return False"
   ]
  },
  {
   "attachments": {},
   "cell_type": "markdown",
   "metadata": {},
   "source": [
    "An image is represented by an m x n integer grid image where image[i][j] represents the pixel value of the image.\n",
    "\n",
    "You are also given three integers sr, sc, and color. You should perform a flood fill on the image starting from the pixel image[sr][sc].\n",
    "\n",
    "To perform a flood fill, consider the starting pixel, plus any pixels connected 4-directionally to the starting pixel of the same color as the starting pixel, plus any pixels connected 4-directionally to those pixels (also with the same color), and so on. Replace the color of all of the aforementioned pixels with color.\n",
    "\n",
    "Return the modified image after performing the flood fill."
   ]
  },
  {
   "cell_type": "code",
   "execution_count": null,
   "metadata": {},
   "outputs": [],
   "source": [
    "class Solution:\n",
    "\n",
    "    def floodFill(self, image: List[List[int]], sr: int, sc: int, color: int) -> List[List[int]]:\n",
    "        if image[sr][sc] == color:\n",
    "            return image\n",
    "        old_color = image[sr][sc]\n",
    "        i=sr\n",
    "        j=sc\n",
    "        def dfs(i,j):\n",
    "            if image[i][j] == old_color:\n",
    "                image[i][j] = color\n",
    "                if i-1>=0:\n",
    "                    dfs(i-1,j)\n",
    "                if i+1<len(image):\n",
    "                    dfs(i+1,j)\n",
    "                if j-1>=0:\n",
    "                    dfs(i,j-1) \n",
    "                if j+1 < len(image[0]):\n",
    "                    dfs(i,j+1)\n",
    "        dfs(i,j)\n",
    "        return image"
   ]
  },
  {
   "attachments": {},
   "cell_type": "markdown",
   "metadata": {},
   "source": [
    "You are given two binary trees root1 and root2.\n",
    "\n",
    "Imagine that when you put one of them to cover the other, some nodes of the two trees are overlapped while the others are not. You need to merge the two trees into a new binary tree. The merge rule is that if two nodes overlap, then sum node values up as the new value of the merged node. Otherwise, the NOT null node will be used as the node of the new tree.\n",
    "\n",
    "Return the merged tree.\n",
    "\n",
    "Note: The merging process must start from the root nodes of both trees."
   ]
  },
  {
   "cell_type": "code",
   "execution_count": null,
   "metadata": {},
   "outputs": [],
   "source": [
    "# Definition for a binary tree node.\n",
    "# class TreeNode:\n",
    "#     def __init__(self, val=0, left=None, right=None):\n",
    "#         self.val = val\n",
    "#         self.left = left\n",
    "#         self.right = right\n",
    "class Solution:\n",
    "    def mergeTrees(self, root1: Optional[TreeNode], root2: Optional[TreeNode]) -> Optional[TreeNode]:\n",
    "            if root1 == None:\n",
    "                return root2\n",
    "            if root2 ==None:\n",
    "                return root1\n",
    "            root1.val = root1.val + root2.val\n",
    "            root1.left = self.mergeTrees(root1.left, root2.left)\n",
    "            root1.right = self.mergeTrees(root1.right, root2.right)\n",
    "            return root1\n"
   ]
  },
  {
   "attachments": {},
   "cell_type": "markdown",
   "metadata": {},
   "source": [
    "You are given a perfect binary tree where all leaves are on the same level, and every parent has two children. The binary tree has the following definition:\n",
    "\n",
    "struct Node {\n",
    "  int val;\n",
    "  Node *left;\n",
    "  Node *right;\n",
    "  Node *next;\n",
    "}\n",
    "Populate each next pointer to point to its next right node. If there is no next right node, the next pointer should be set to NULL.\n",
    "\n",
    "Initially, all next pointers are set to NULL."
   ]
  },
  {
   "cell_type": "code",
   "execution_count": null,
   "metadata": {},
   "outputs": [],
   "source": [
    "\"\"\"\n",
    "# Definition for a Node.\n",
    "class Node:\n",
    "    def __init__(self, val: int = 0, left: 'Node' = None, right: 'Node' = None, next: 'Node' = None):\n",
    "        self.val = val\n",
    "        self.left = left\n",
    "        self.right = right\n",
    "        self.next = next\n",
    "\"\"\"\n",
    "\n",
    "class Solution:\n",
    "    def connect(self, root: 'Optional[Node]') -> 'Optional[Node]':\n",
    "        def dfs(root):\n",
    "            if not(root):\n",
    "                return\n",
    "            if root.right:\n",
    "                root.left.next = root.right\n",
    "                if root.next:\n",
    "                    root.right.next = root.next.left\n",
    "                    dfs(root.right)\n",
    "                    dfs(root.left)\n",
    "                else:\n",
    "                    dfs(root.right)\n",
    "                    dfs(root.left)\n",
    "\n",
    "        root1= root\n",
    "        dfs(root)\n",
    "        return root1"
   ]
  },
  {
   "cell_type": "code",
   "execution_count": 1,
   "metadata": {},
   "outputs": [
    {
     "name": "stdout",
     "output_type": "stream",
     "text": [
      "hello\n"
     ]
    }
   ],
   "source": [
    "Given an m x n binary matrix mat, return the distance of the nearest 0 for each cell.\n",
    "\n",
    "The distance between two adjacent cells is 1."
   ]
  },
  {
   "cell_type": "code",
   "execution_count": null,
   "metadata": {},
   "outputs": [],
   "source": [
    "class Solution:\n",
    "    def updateMatrix(self, mat: List[List[int]]) -> List[List[int]]:\n",
    "        new_mat =  [[math.inf for _ in range(len(mat[0]))] for _ in range(len(mat))]\n",
    "        for i in range(0,len(mat)):\n",
    "            for j in range(0,len(mat[0])):\n",
    "                if mat[i][j] == 0:\n",
    "                  new_mat[i][j] = 0\n",
    "                else:\n",
    "                    if i>0:\n",
    "                        new_mat[i][j] = min(new_mat[i][j], 1 + new_mat[i-1][j])\n",
    "                    if j>0:\n",
    "                        new_mat[i][j] = min(new_mat[i][j], 1 + new_mat[i][j-1])\n",
    "        for i in range(len(mat)-1, -1 ,-1):\n",
    "            for j in range(len(mat[0])-1, -1 , -1):\n",
    "                    if i<len(mat)-1:\n",
    "                        new_mat[i][j] = min(new_mat[i][j], 1+new_mat[i+1][j])\n",
    "                    if j<len(mat[0])-1:\n",
    "                        new_mat[i][j] = min(new_mat[i][j], 1+new_mat[i][j+1])\n",
    "        return new_mat\n"
   ]
  }
 ],
 "metadata": {
  "kernelspec": {
   "display_name": "Python 3",
   "language": "python",
   "name": "python3"
  },
  "language_info": {
   "codemirror_mode": {
    "name": "ipython",
    "version": 3
   },
   "file_extension": ".py",
   "mimetype": "text/x-python",
   "name": "python",
   "nbconvert_exporter": "python",
   "pygments_lexer": "ipython3",
   "version": "3.10.9"
  },
  "orig_nbformat": 4,
  "vscode": {
   "interpreter": {
    "hash": "152a95c9a8393ea6855611ae190369b2b0d8e235588068017cee574494180c3a"
   }
  }
 },
 "nbformat": 4,
 "nbformat_minor": 2
}
