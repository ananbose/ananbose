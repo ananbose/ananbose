{
 "cells": [
  {
   "cell_type": "markdown",
   "metadata": {},
   "source": []
  },
  {
   "attachments": {},
   "cell_type": "markdown",
   "metadata": {},
   "source": [
    "Problem:\n",
    "Given the head of a singly linked list, return the middle node of the linked list.\n",
    "\n",
    "If there are two middle nodes, return the second middle node."
   ]
  },
  {
   "cell_type": "code",
   "execution_count": null,
   "metadata": {},
   "outputs": [],
   "source": [
    "# Definition for singly-linked list.\n",
    "# class ListNode:\n",
    "#     def __init__(self, val=0, next=None):\n",
    "#         self.val = val\n",
    "#         self.next = next\n",
    "class Solution:\n",
    "    def middleNode(self, head: Optional[ListNode]) -> Optional[ListNode]:\n",
    "        head1 = [ListNode]\n",
    "        head1=head\n",
    "        print(head1.val)\n",
    "        while(head1.next and head1.next.next):\n",
    "            head1=head1.next.next\n",
    "            head = head.next\n",
    "            print(head1.val)\n",
    "        if head1.next:\n",
    "            return head.next\n",
    "        else:\n",
    "            return head"
   ]
  },
  {
   "attachments": {},
   "cell_type": "markdown",
   "metadata": {},
   "source": []
  },
  {
   "cell_type": "code",
   "execution_count": null,
   "metadata": {},
   "outputs": [],
   "source": [
    "class ListNode:\n",
    "    def __init__(self, val=0, next=None):\n",
    "        self.val = val\n",
    "        self.next = next\n",
    "\n",
    "def removeNthFromEnd(head, n):\n",
    "    dummy = ListNode(0)\n",
    "    dummy.next = head\n",
    "    first = dummy\n",
    "    second = dummy\n",
    "    for i in range(n + 1):\n",
    "        first = first.next\n",
    "    while first:\n",
    "        first = first.next\n",
    "        second = second.next\n",
    "    second.next = second.next.next\n",
    "    return dummy.next"
   ]
  },
  {
   "attachments": {},
   "cell_type": "markdown",
   "metadata": {},
   "source": [
    "Given two strings s1 and s2, return true if s2 contains a permutation of s1, or false otherwise.\n",
    "\n",
    "In other words, return true if one of s1's permutations is the substring of s2.\n",
    "\n",
    " "
   ]
  },
  {
   "cell_type": "code",
   "execution_count": null,
   "metadata": {},
   "outputs": [],
   "source": [
    "class Solution:\n",
    "    def create_hash(self, string1):\n",
    "        dict2 = {}\n",
    "        for i in string1:\n",
    "            if dict2.get(i):\n",
    "                dict2[i]= dict2[i]+1\n",
    "            else:\n",
    "                dict2[i] =1\n",
    "        return dict2\n",
    "    def checkInclusion(self, s1: str, s2: str) -> bool:\n",
    "        dict1 = {}\n",
    "        for i in s1:\n",
    "            if dict1.get(i):\n",
    "                dict1[i] = dict1[i]+1\n",
    "            else:\n",
    "                dict1[i] = 1\n",
    "        for i in range(0, len(s2)):\n",
    "            if i+len(s1)-1<len(s2):\n",
    "                if self.create_hash(s2[i:i+len(s1)]) == dict1:\n",
    "                    return True\n",
    "        return False"
   ]
  }
 ],
 "metadata": {
  "language_info": {
   "name": "python"
  },
  "orig_nbformat": 4
 },
 "nbformat": 4,
 "nbformat_minor": 2
}
