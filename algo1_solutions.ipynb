{
 "cells": [
  {
   "cell_type": "markdown",
   "metadata": {},
   "source": []
  },
  {
   "attachments": {},
   "cell_type": "markdown",
   "metadata": {},
   "source": [
    "Problem:\n",
    "Given the head of a singly linked list, return the middle node of the linked list.\n",
    "\n",
    "If there are two middle nodes, return the second middle node."
   ]
  },
  {
   "cell_type": "code",
   "execution_count": null,
   "metadata": {},
   "outputs": [],
   "source": [
    "# Definition for singly-linked list.\n",
    "# class ListNode:\n",
    "#     def __init__(self, val=0, next=None):\n",
    "#         self.val = val\n",
    "#         self.next = next\n",
    "class Solution:\n",
    "    def middleNode(self, head: Optional[ListNode]) -> Optional[ListNode]:\n",
    "        head1 = [ListNode]\n",
    "        head1=head\n",
    "        print(head1.val)\n",
    "        while(head1.next and head1.next.next):\n",
    "            head1=head1.next.next\n",
    "            head = head.next\n",
    "            print(head1.val)\n",
    "        if head1.next:\n",
    "            return head.next\n",
    "        else:\n",
    "            return head"
   ]
  },
  {
   "attachments": {},
   "cell_type": "markdown",
   "metadata": {},
   "source": []
  },
  {
   "cell_type": "code",
   "execution_count": null,
   "metadata": {},
   "outputs": [],
   "source": [
    "class ListNode:\n",
    "    def __init__(self, val=0, next=None):\n",
    "        self.val = val\n",
    "        self.next = next\n",
    "\n",
    "def removeNthFromEnd(head, n):\n",
    "    dummy = ListNode(0)\n",
    "    dummy.next = head\n",
    "    first = dummy\n",
    "    second = dummy\n",
    "    for i in range(n + 1):\n",
    "        first = first.next\n",
    "    while first:\n",
    "        first = first.next\n",
    "        second = second.next\n",
    "    second.next = second.next.next\n",
    "    return dummy.next"
   ]
  },
  {
   "attachments": {},
   "cell_type": "markdown",
   "metadata": {},
   "source": [
    "Given two strings s1 and s2, return true if s2 contains a permutation of s1, or false otherwise.\n",
    "\n",
    "In other words, return true if one of s1's permutations is the substring of s2.\n",
    "\n",
    " "
   ]
  },
  {
   "cell_type": "code",
   "execution_count": null,
   "metadata": {},
   "outputs": [],
   "source": [
    "class Solution:\n",
    "    def create_hash(self, string1):\n",
    "        dict2 = {}\n",
    "        for i in string1:\n",
    "            if dict2.get(i):\n",
    "                dict2[i]= dict2[i]+1\n",
    "            else:\n",
    "                dict2[i] =1\n",
    "        return dict2\n",
    "    def checkInclusion(self, s1: str, s2: str) -> bool:\n",
    "        dict1 = {}\n",
    "        for i in s1:\n",
    "            if dict1.get(i):\n",
    "                dict1[i] = dict1[i]+1\n",
    "            else:\n",
    "                dict1[i] = 1\n",
    "        for i in range(0, len(s2)):\n",
    "            if i+len(s1)-1<len(s2):\n",
    "                if self.create_hash(s2[i:i+len(s1)]) == dict1:\n",
    "                    return True\n",
    "        return False"
   ]
  },
  {
   "attachments": {},
   "cell_type": "markdown",
   "metadata": {},
   "source": [
    "An image is represented by an m x n integer grid image where image[i][j] represents the pixel value of the image.\n",
    "\n",
    "You are also given three integers sr, sc, and color. You should perform a flood fill on the image starting from the pixel image[sr][sc].\n",
    "\n",
    "To perform a flood fill, consider the starting pixel, plus any pixels connected 4-directionally to the starting pixel of the same color as the starting pixel, plus any pixels connected 4-directionally to those pixels (also with the same color), and so on. Replace the color of all of the aforementioned pixels with color.\n",
    "\n",
    "Return the modified image after performing the flood fill."
   ]
  },
  {
   "cell_type": "code",
   "execution_count": null,
   "metadata": {},
   "outputs": [],
   "source": [
    "class Solution:\n",
    "\n",
    "    def floodFill(self, image: List[List[int]], sr: int, sc: int, color: int) -> List[List[int]]:\n",
    "        if image[sr][sc] == color:\n",
    "            return image\n",
    "        old_color = image[sr][sc]\n",
    "        i=sr\n",
    "        j=sc\n",
    "        def dfs(i,j):\n",
    "            if image[i][j] == old_color:\n",
    "                image[i][j] = color\n",
    "                if i-1>=0:\n",
    "                    dfs(i-1,j)\n",
    "                if i+1<len(image):\n",
    "                    dfs(i+1,j)\n",
    "                if j-1>=0:\n",
    "                    dfs(i,j-1) \n",
    "                if j+1 < len(image[0]):\n",
    "                    dfs(i,j+1)\n",
    "        dfs(i,j)\n",
    "        return image"
   ]
  },
  {
   "attachments": {},
   "cell_type": "markdown",
   "metadata": {},
   "source": [
    "You are given two binary trees root1 and root2.\n",
    "\n",
    "Imagine that when you put one of them to cover the other, some nodes of the two trees are overlapped while the others are not. You need to merge the two trees into a new binary tree. The merge rule is that if two nodes overlap, then sum node values up as the new value of the merged node. Otherwise, the NOT null node will be used as the node of the new tree.\n",
    "\n",
    "Return the merged tree.\n",
    "\n",
    "Note: The merging process must start from the root nodes of both trees."
   ]
  },
  {
   "cell_type": "code",
   "execution_count": null,
   "metadata": {},
   "outputs": [],
   "source": [
    "# Definition for a binary tree node.\n",
    "# class TreeNode:\n",
    "#     def __init__(self, val=0, left=None, right=None):\n",
    "#         self.val = val\n",
    "#         self.left = left\n",
    "#         self.right = right\n",
    "class Solution:\n",
    "    def mergeTrees(self, root1: Optional[TreeNode], root2: Optional[TreeNode]) -> Optional[TreeNode]:\n",
    "            if root1 == None:\n",
    "                return root2\n",
    "            if root2 ==None:\n",
    "                return root1\n",
    "            root1.val = root1.val + root2.val\n",
    "            root1.left = self.mergeTrees(root1.left, root2.left)\n",
    "            root1.right = self.mergeTrees(root1.right, root2.right)\n",
    "            return root1\n"
   ]
  }
 ],
 "metadata": {
  "language_info": {
   "name": "python"
  },
  "orig_nbformat": 4
 },
 "nbformat": 4,
 "nbformat_minor": 2
}
